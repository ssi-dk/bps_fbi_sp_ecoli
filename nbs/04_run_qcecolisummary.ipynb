{
 "cells": [
  {
   "cell_type": "markdown",
   "metadata": {},
   "source": [
    "## Run qcecolisummary\n",
    "Functions that allow the user to run qcecolisummary.py"
   ]
  },
  {
   "cell_type": "code",
   "execution_count": null,
   "metadata": {},
   "outputs": [],
   "source": [
    "#|default_exp run_qcecolisummary\n",
    "# This will create a package named bps_fbi_sp_ecoli/run_qcecolisummary.py"
   ]
  },
  {
   "cell_type": "code",
   "execution_count": null,
   "metadata": {},
   "outputs": [],
   "source": [
    "#|hide\n",
    "# Nbdev requires this imports\n",
    "import nbdev\n",
    "from nbdev.showdoc import *"
   ]
  },
  {
   "cell_type": "code",
   "execution_count": null,
   "metadata": {},
   "outputs": [],
   "source": [
    "#|export\n",
    "# Standard libs to be used in the notebook\n",
    "import os\n",
    "import re\n",
    "import sys\n",
    "import shutil\n",
    "import subprocess\n",
    "from pathlib import Path\n",
    "\n",
    "# Common to nbdev template\n",
    "# add into settings.ini, requirements, package name is python-dotenv, for conda build ensure `conda config --add channels conda-forge`\n",
    "import dotenv # for loading config from .env files, https://pypi.org/project/python-dotenv/\n",
    "import envyaml # Allows to loads env vars into a yaml file, https://github.com/thesimj/envyaml\n",
    "import fastcore # To add functionality related to nbdev development, https://github.com/fastai/fastcore/\n",
    "import fastcore.script\n",
    "from fastcore.script import call_parse\n",
    "\n",
    "# Project specific libraries\n",
    "from bps_fbi_sp_ecoli import core, helpers\n"
   ]
  },
  {
   "cell_type": "code",
   "execution_count": null,
   "metadata": {},
   "outputs": [],
   "source": [
    "#|hide\n",
    "print(core.__all__)\n",
    "print(helpers.__all__)"
   ]
  },
  {
   "cell_type": "code",
   "execution_count": null,
   "metadata": {},
   "outputs": [],
   "source": [
    "#|hide\n",
    "# This is the notebook config to use for developing purposes\n",
    "notebook_config = core.get_config(f\"{core.PROJECT_DIR}/config/config.default.env\")\n",
    "#core.show_project_env_vars(notebook_config)\n",
    "\n",
    "INPUT_DIR = notebook_config['run_qcecolisummary']['input']['dir']\n",
    "\n",
    "# Outputs\n",
    "OUTPUT_DIR = notebook_config['run_qcecolisummary']['output']['dir']\n",
    "COMMAND_FILE = notebook_config[\"run_qcecolisummary\"][\"output\"][\"command_file\"]"
   ]
  },
  {
   "cell_type": "code",
   "execution_count": null,
   "metadata": {},
   "outputs": [],
   "source": [
    "#|export\n",
    "def qcecolisummary(input_dir: Path, output_dir:Path) -> str:\n",
    "    \"\"\"A function that generates a command for 1 sample.\n",
    "    \"\"\"\n",
    "    # Get the full paths of relative paths\n",
    "    input_dir = os.path.abspath(input_dir)\n",
    "    output_dir = os.path.abspath(output_dir)\n",
    "    \n",
    "    # Note the qcecolisummary command will create output folders if they don't exist. This includes parent directories.\n",
    "    command = f\"\"\"\n",
    "    python3 {core.PACKAGE_DIR}/scripts/qcecolisummary.py -i {input_dir} -o {output_dir}\n",
    "    \"\"\".strip()\n",
    "    \n",
    "    # This is where one would normally run it with subprocess or such but am utilizing linux commands in Notebooks as the alternative.\n",
    "    return command"
   ]
  },
  {
   "cell_type": "code",
   "execution_count": null,
   "metadata": {},
   "outputs": [],
   "source": [
    "#|export\n",
    "def generate_qcecolisummary_commands(input_dir: Path, output_dir:Path):\n",
    "    \"\"\"A function that generates commands for many folders in a folder.\n",
    "    \"\"\"\n",
    "    # Get the full paths of relative paths\n",
    "    input_dir = os.path.abspath(input_dir)\n",
    "    output_dir = os.path.abspath(output_dir)\n",
    "\n",
    "    commands = []\n",
    "    commands.append(qcecolisummary(input_dir, output_dir))\n",
    "    \n",
    "    return commands"
   ]
  },
  {
   "cell_type": "code",
   "execution_count": null,
   "metadata": {},
   "outputs": [],
   "source": [
    "# #|export\n",
    "# commands = generate_qcecolisummary_commands(INPUT_DIR, OUTPUT_DIR)\n",
    "# helpers.write_list_to_file(commands, COMMAND_FILE)\n",
    "# for command in commands:\n",
    "#     print(command)\n",
    "# #     !{command}\n",
    "# #     core.notification(NOTIFICATIONS)"
   ]
  },
  {
   "cell_type": "markdown",
   "metadata": {},
   "source": [
    "## Turn the scripts into a commmand line tool"
   ]
  },
  {
   "cell_type": "code",
   "execution_count": null,
   "metadata": {},
   "outputs": [],
   "source": [
    "#|export\n",
    "# This are the command line options for FBI_run_qcecolisummary\n",
    "# Add 'FBI_run_bifrostpostkma' into settings.ini\n",
    "@call_parse\n",
    "def cli(\n",
    "    input:Path = None, # Path to input folder that contains the results of kma matching against the ecoligenes db (the folder)\n",
    "    output:Path = None, # Path to the output directory\n",
    "    command_file:str = None, # Path to file to write commands to\n",
    "    execute:bool = True, # Run commands in command file\n",
    "    to_stdout:bool = False, # If true, will write to stdout instead of file, mutually exclusive with output_file\n",
    "    overwrite:bool = False, # If true, will overwrite output_file if it exists\n",
    "    config_file:str = None # Config file to overwrite default settings, arg parse values will override config file values,\n",
    "    ) -> None:\n",
    "    \"\"\"\n",
    "    This program takes as input a folder containing .tsv files \n",
    "    and allows you to run qcecolisummary.py on all Ecoli samples.\"\"\"\n",
    "    config = core.get_config(config_file) # Set env vars and get config variables\n",
    "\n",
    "    if input is not None:\n",
    "        config[\"run_qcecolisummary\"][\"input\"][\"dir\"] = input\n",
    "    if output is not None:\n",
    "        config['run_qcecolisummary']['output']['dir'] = output\n",
    "    if command_file is not None:\n",
    "        config['run_qcecolisummary']['output']['command_file'] = command_file\n",
    "    if to_stdout is True:\n",
    "        config['run_qcecolisummary']['output']['to_stdout'] = True\n",
    "    if overwrite is True:\n",
    "        config['run_qcecolisummary']['output']['overwrite'] = True\n",
    "\n",
    "    # generate_qcecolisummary_commands(INPUT_DIR, SAMPLE_SHEET, OUTPUT_DIR, DB_PATH, KMA_PATH)\n",
    "    commands = generate_qcecolisummary_commands(\n",
    "        config[\"run_qcecolisummary\"][\"input\"][\"dir\"],\n",
    "        config[\"run_qcecolisummary\"][\"output\"][\"dir\"]\n",
    "    )\n",
    "    helpers.write_list_to_file(\n",
    "        commands,\n",
    "        config[\"run_qcecolisummary\"][\"output\"][\"command_file\"],\n",
    "        overwrite=config[\"run_qcecolisummary\"][\"output\"][\"overwrite\"],\n",
    "        to_stdout=config[\"run_qcecolisummary\"][\"output\"][\"to_stdout\"]\n",
    "    )\n",
    "\n",
    "    # For running make sure command is present\n",
    "    if execute and helpers.tools_are_present([\"kma\"]):\n",
    "        helpers.execute_commands_from_file(config[\"run_qcecolisummary\"][\"output\"][\"command_file\"])\n",
    "        #core.notification(config[\"demultiplex_runs\"][\"notification\"] )"
   ]
  },
  {
   "cell_type": "code",
   "execution_count": null,
   "metadata": {},
   "outputs": [],
   "source": [
    "#| hide\n",
    "cli(config_file=f\"{core.PROJECT_DIR}/config/config.default.env\", execute=False)"
   ]
  },
  {
   "cell_type": "code",
   "execution_count": null,
   "metadata": {},
   "outputs": [],
   "source": [
    "#| hide\n",
    "# This is included at the end to ensure when you run through your notebook the code is also transferred to the associated python package\n",
    "nbdev.nbdev_export()"
   ]
  }
 ],
 "metadata": {
  "kernelspec": {
   "display_name": "python3",
   "language": "python",
   "name": "python3"
  }
 },
 "nbformat": 4,
 "nbformat_minor": 2
}
