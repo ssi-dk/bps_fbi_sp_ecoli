{
 "cells": [
  {
   "cell_type": "code",
   "execution_count": null,
   "metadata": {},
   "outputs": [],
   "source": [
    "#| default_exp qc_ecoli_pipeline\n",
    "# This will create a package named bps_fbi_sp_ecoli/qc_ecoli_pipeline.py"
   ]
  },
  {
   "cell_type": "code",
   "execution_count": null,
   "metadata": {},
   "outputs": [],
   "source": [
    "#|hide\n",
    "\n",
    "from nbdev.showdoc import *\n",
    "import fastcore"
   ]
  },
  {
   "cell_type": "code",
   "execution_count": null,
   "metadata": {},
   "outputs": [],
   "source": [
    "#|export\n",
    "import os\n",
    "import re\n",
    "from bps_fbi_sp_ecoli import core, helpers, run_ecolityping, run_postecolityping, run_qcecolisummary"
   ]
  },
  {
   "cell_type": "markdown",
   "metadata": {},
   "source": [
    "Check required tools are available"
   ]
  },
  {
   "cell_type": "code",
   "execution_count": null,
   "metadata": {},
   "outputs": [],
   "source": [
    "#|export\n",
    "# add into settings.ini, requirements, package name is fastcore, for conda build ensure `conda config --add channels fastai`\n",
    "from fastcore.script import call_parse\n",
    "import os\n",
    "\n",
    "@call_parse\n",
    "def cli(\n",
    "    config_file1 = None, # Config file to type\n",
    "    config_file2 = None,  # Config file to process results\n",
    "    config_file3 = None  # Config file to summarize\n",
    "    ) -> None:\n",
    "    \"\"\"\n",
    "    Takes associated config files and runs full QC pipeline which is check for runs not demuxed, demultiplexes them, then runs QC on them\n",
    "    \"\"\"\n",
    "    run_ecolityping.cli(config_file=config_file1) # Run samples against ecoligenesdb using kma\n",
    "    run_postecolityping.cli(config_file=config_file2) # Process kma results\n",
    "    run_qcecolisummary.cli(config_file=config_file3) # Summarize results"
   ]
  },
  {
   "cell_type": "code",
   "execution_count": null,
   "metadata": {},
   "outputs": [],
   "source": [
    "##test\n",
    "#cli(f\"{core.PROJECT_DIR}/config/example_1.env\",f\"{core.PROJECT_DIR}/config/example_2.env\",f\"{core.PROJECT_DIR}/config/example_3.env\" )"
   ]
  }
 ],
 "metadata": {
  "kernelspec": {
   "display_name": "python3",
   "language": "python",
   "name": "python3"
  }
 },
 "nbformat": 4,
 "nbformat_minor": 2
}
