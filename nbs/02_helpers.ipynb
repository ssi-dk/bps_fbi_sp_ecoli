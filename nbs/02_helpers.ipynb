{
 "cells": [
  {
   "attachments": {},
   "cell_type": "markdown",
   "metadata": {},
   "source": [
    "# Helpers\n",
    "\n",
    "Helper functions"
   ]
  },
  {
   "cell_type": "code",
   "execution_count": null,
   "metadata": {},
   "outputs": [],
   "source": [
    "#|default_exp helpers\n",
    "# This will create a package named bps_fbi_sp_ecoli/helpers.py"
   ]
  },
  {
   "cell_type": "code",
   "execution_count": null,
   "metadata": {},
   "outputs": [],
   "source": [
    "#|hide\n",
    "# Nbdev requires this imports\n",
    "import nbdev\n",
    "from nbdev.showdoc import *"
   ]
  },
  {
   "cell_type": "code",
   "execution_count": null,
   "metadata": {},
   "outputs": [],
   "source": [
    "#|export\n",
    "# Standard libs to be used in the notebook\n",
    "import os\n",
    "import re\n",
    "import sys\n",
    "import shutil\n",
    "from pathlib import Path\n",
    "import requests\n",
    "import pandas as pd\n",
    "import subprocess\n",
    "\n",
    "# Common to template\n",
    "# add into settings.ini, requirements, package name is python-dotenv, for conda build ensure `conda config --add channels conda-forge`\n",
    "import dotenv # for loading config from .env files, https://pypi.org/project/python-dotenv/\n",
    "import envyaml # Allows to loads env vars into a yaml file, https://github.com/thesimj/envyaml\n",
    "import fastcore # To add functionality related to nbdev development, https://github.com/fastai/fastcore/\n",
    "import fastcore.script"
   ]
  },
  {
   "cell_type": "markdown",
   "metadata": {},
   "source": [
    "## General functions"
   ]
  },
  {
   "cell_type": "markdown",
   "metadata": {},
   "source": [
    "This are prewritten functions by KIMN."
   ]
  },
  {
   "cell_type": "code",
   "execution_count": null,
   "metadata": {},
   "outputs": [],
   "source": [
    "#|export\n",
    "def tool_is_present(tool_name: str) -> bool:\n",
    "    \"\"\"This function check for programs reliant\n",
    "    on other tools that the tool is present.\"\"\"\n",
    "    # Checks if a tool is present in current env\n",
    "    return shutil.which(tool_name) is not None"
   ]
  },
  {
   "cell_type": "code",
   "execution_count": null,
   "metadata": {},
   "outputs": [],
   "source": [
    "#|export\n",
    "def tools_are_present(tool_names: list) -> bool:\n",
    "    \"\"\"This function checks for a list of programs\n",
    "    reliant on other tools that the tool is present.\"\"\"\n",
    "    # Checks if a list of tools are present in current env\n",
    "    tools_present:bool = True\n",
    "    for tool in tool_names:\n",
    "        if not tool_is_present(tool):\n",
    "            print(f\"Tool {tool} is not present in current environment\", file=sys.stderr)\n",
    "            tools_present = False\n",
    "\n",
    "    return tools_present"
   ]
  },
  {
   "cell_type": "code",
   "execution_count": null,
   "metadata": {},
   "outputs": [],
   "source": [
    "# import subprocess\n",
    "# if not core.tools_are_present([tool]):\n",
    "#     process = subprocess.Popen(f\"conda install -c bioconda {tool}\".split(\" \"), stdout=subprocess.PIPE, stderr=subprocess.PIPE)\n",
    "#     process.communicate()\n",
    "#     if not core.tool_is_present(tool):\n",
    "#         raise ImportError(f\"{tool} not installed\")"
   ]
  },
  {
   "cell_type": "code",
   "execution_count": null,
   "metadata": {},
   "outputs": [],
   "source": [
    "#|export\n",
    "def notification(notification: dict) -> bool:\n",
    "    \"\"\"This function sends a notification to the user.\"\"\"\n",
    "    try:\n",
    "        r = requests.post(url = notification[\"url\"], params = notification[\"params\"], timeout=10)\n",
    "    except requests.exceptions.Timeout:\n",
    "        print(\"Timeout occured\", file=sys.stderr)\n",
    "        return False\n",
    "    except Exception as e:\n",
    "        print(f\"Exception occured: {e}\", file=sys.stderr)\n",
    "        return False\n",
    "    finally:\n",
    "        return True"
   ]
  },
  {
   "cell_type": "code",
   "execution_count": null,
   "metadata": {},
   "outputs": [],
   "source": [
    "#|export\n",
    "def write_list_to_file(content:list[str], file_path:str, overwrite=True, to_stdout=False) -> None:\n",
    "    \"\"\"This function takes a list of commands and put it to a file.\n",
    "    This can be manipulated for wrapping in a resource manager.\"\"\"\n",
    "    # Create output dir for commands file\n",
    "    if not os.path.exists(os.path.dirname(file_path)):\n",
    "        os.makedirs(os.path.dirname(file_path))\n",
    "    if os.path.isfile(file_path) and not overwrite:\n",
    "        raise FileExistsError(f\"File {file_path} already exists\")\n",
    "    if to_stdout or file_path == \"-\":\n",
    "        for line in content:\n",
    "            print(line)\n",
    "    else:\n",
    "        with open(file_path, 'w') as f:\n",
    "            for line in content:\n",
    "                print(line, file=f)"
   ]
  },
  {
   "cell_type": "code",
   "execution_count": null,
   "metadata": {},
   "outputs": [],
   "source": [
    "#|export\n",
    "def execute_commands_from_file(command_file_path:str) -> None:\n",
    "    \"\"\"This function executes commands from a file.\"\"\"\n",
    "    os.system(f\"bash {command_file_path}\")"
   ]
  },
  {
   "cell_type": "code",
   "execution_count": null,
   "metadata": {},
   "outputs": [],
   "source": [
    "#|export\n",
    "def get_experiment_name(sample_sheet_path:Path) -> str:\n",
    "    \"\"\"This function parses a sample sheet \n",
    "    to find the experiment name 'N_WGS_000'.\"\"\"\n",
    "    with open(sample_sheet_path, 'r') as f:\n",
    "        file_text = f.read()\n",
    "    match = re.search(\"Experiment\\ Name,(?P<experiment_name>.+)\\n\", file_text)\n",
    "    if match is None or match.lastindex == 0:\n",
    "        raise Exception(f\"Could not find experiment name in sample sheet {sample_sheet_path}\")\n",
    "    else:\n",
    "        return match.group(\"experiment_name\")"
   ]
  },
  {
   "cell_type": "markdown",
   "metadata": {},
   "source": [
    "## Project specific functions"
   ]
  },
  {
   "cell_type": "markdown",
   "metadata": {},
   "source": [
    "This are functions written by the FBI team (ASMU and KLOC)."
   ]
  },
  {
   "cell_type": "code",
   "execution_count": null,
   "metadata": {},
   "outputs": [],
   "source": [
    "#|export\n",
    "def process_sample_sheet(dir:Path, sample_sheet:str) -> list:\n",
    "    \"\"\"This function takes a dir as input, finds a sample sheet in that dir,\n",
    "    and return a list list of dicts, one dict per sample\n",
    "    from \n",
    "    \\nSampleID\tOrganism\tSupplyingLab\n",
    "    \\n ecoli1  Ecoli FBI\n",
    "    \\nto\n",
    "    \\n[{'SampleID': 'ecoli1', 'Organism': 'Ecoli', 'SupplyingLab': 'FBI'}]\n",
    "    \"\"\"\n",
    "    sample_sheet_path = os.path.join(dir, sample_sheet)\n",
    "    if sample_sheet_path.endswith(\".xlsx\"):\n",
    "        df = pd.read_excel(sample_sheet_path, engine='openpyxl').astype(str)\n",
    "    else:  # assume it's a tsv\n",
    "        df = pd.read_table(sample_sheet_path).astype(str)\n",
    "    metadata = df.to_dict('records')\n",
    "    return metadata"
   ]
  },
  {
   "cell_type": "code",
   "execution_count": null,
   "metadata": {},
   "outputs": [],
   "source": [
    "#|export\n",
    "def find_fastqs(dir: Path) -> list:\n",
    "    \"\"\"This function finds files that end in .fastq.gz in a dir\"\"\"\n",
    "    fastqs = [os.path.join(dir, file) for file in os.listdir(dir) if file.endswith('.fastq.gz')]\n",
    "    return fastqs"
   ]
  },
  {
   "cell_type": "code",
   "execution_count": null,
   "metadata": {},
   "outputs": [],
   "source": [
    "#|export\n",
    "def add_fastqs_to_metadata(metadata:list, fastqs) -> list:\n",
    "    \"\"\"This function adds the fastq paths to the metadata.\"\"\"\n",
    "    for sample_dict in metadata:\n",
    "        sampleid = sample_dict['SampleID']\n",
    "        for fastq in fastqs:\n",
    "            if (sampleid in fastq) and ('R1' in fastq):\n",
    "                sample_dict['R1'] = fastq\n",
    "            elif (sampleid in fastq) and ('R2' in fastq):\n",
    "                sample_dict['R2'] = fastq\n",
    "    return metadata"
   ]
  },
  {
   "cell_type": "code",
   "execution_count": null,
   "metadata": {},
   "outputs": [],
   "source": [
    "#|export\n",
    "def get_stbit(stbit: str) -> bool:\n",
    "    \"\"\"This function that checks if the stbit was provided,\n",
    "    if not it sets up a default value for it.\"\"\"\n",
    "    if not stbit:\n",
    "        stbit = \"ST:NA,NA\"\n",
    "    return stbit"
   ]
  },
  {
   "cell_type": "code",
   "execution_count": null,
   "metadata": {},
   "outputs": [],
   "source": [
    "#|export\n",
    "def add_stbit_to_metadata(metadata:list, stbit:str) -> list:\n",
    "    \"\"\"This function adds the stbit to the metadata.\"\"\"\n",
    "    for sample_dict in metadata:\n",
    "        sample_dict['STBIT'] = stbit\n",
    "    return metadata"
   ]
  },
  {
   "cell_type": "code",
   "execution_count": null,
   "metadata": {},
   "outputs": [],
   "source": [
    "#|export\n",
    "def check_db(dir: Path) -> bool:\n",
    "    \"\"\"This function checks if the database dir exists.\"\"\"\n",
    "    if dir is not None:\n",
    "        assert(os.path.exists(dir)), f\"Database {dir} does not exist\"\n",
    "    return True"
   ]
  },
  {
   "cell_type": "code",
   "execution_count": null,
   "metadata": {},
   "outputs": [],
   "source": [
    "#|export\n",
    "def make_folder_if_not_exists(folder_name):\n",
    "\t\"\"\"This function creates output folders if they don't exists.\"\"\"\n",
    "\tif not os.path.exists(folder_name):\n",
    "\t\tos.makedirs(folder_name)"
   ]
  },
  {
   "cell_type": "code",
   "execution_count": null,
   "metadata": {},
   "outputs": [],
   "source": [
    "#|export\n",
    "def find_dirs(path):\n",
    "\t\"\"\"This function finds dirs in a path,\n",
    "\texcluding files.\"\"\"\n",
    "\tdirs = [os.path.join(path, dir) for dir in os.listdir(path) if os.path.isdir(os.path.join(path, dir))]\n",
    "\treturn dirs"
   ]
  },
  {
   "cell_type": "code",
   "execution_count": null,
   "metadata": {},
   "outputs": [],
   "source": [
    "#|export\n",
    "def find_files(path, extension=None):\n",
    "    \"\"\"This function finds files in a path with optional extension filtering,\n",
    "    excluding directories.\"\"\"\n",
    "    if extension:\n",
    "        files = [os.path.join(path, file) for file in os.listdir(path)\n",
    "                 if os.path.isfile(os.path.join(path, file)) and file.endswith(extension)]\n",
    "    else:\n",
    "        files = [os.path.join(path, file) for file in os.listdir(path)\n",
    "                 if os.path.isfile(os.path.join(path, file))]\n",
    "    return files"
   ]
  },
  {
   "cell_type": "code",
   "execution_count": null,
   "metadata": {},
   "outputs": [],
   "source": [
    "#|export\n",
    "def make_folder_if_not_exists(folder_name):\n",
    "\t\"\"\"This function creates output folders if they don't exists.\"\"\"\n",
    "\tif not os.path.exists(folder_name):\n",
    "\t\tos.makedirs(folder_name)"
   ]
  },
  {
   "cell_type": "code",
   "execution_count": null,
   "metadata": {},
   "outputs": [],
   "source": [
    "#|hide\n",
    "# This is included at the end to ensure when you run through your notebook the code is also transferred to the associated python package\n",
    "nbdev.nbdev_export()"
   ]
  }
 ],
 "metadata": {
  "kernelspec": {
   "display_name": "python3",
   "language": "python",
   "name": "python3"
  }
 },
 "nbformat": 4,
 "nbformat_minor": 4
}
