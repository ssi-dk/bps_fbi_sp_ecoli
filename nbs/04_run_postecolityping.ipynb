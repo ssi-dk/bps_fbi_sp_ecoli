{
 "cells": [
  {
   "cell_type": "markdown",
   "metadata": {},
   "source": [
    "## Run postecolityping\n",
    "Functions that allow the user to run postecolityping.py"
   ]
  },
  {
   "cell_type": "code",
   "execution_count": null,
   "metadata": {},
   "outputs": [],
   "source": [
    "#|default_exp run_postecolityping\n",
    "# This will create a package named bps_fbi_sp_ecoli/run_postecolityping.py"
   ]
  },
  {
   "cell_type": "code",
   "execution_count": null,
   "metadata": {},
   "outputs": [],
   "source": [
    "#|hide\n",
    "# Nbdev requires this imports\n",
    "import nbdev\n",
    "from nbdev.showdoc import *"
   ]
  },
  {
   "cell_type": "code",
   "execution_count": null,
   "metadata": {},
   "outputs": [],
   "source": [
    "#|export\n",
    "# Standard libs to be used in the notebook\n",
    "import os\n",
    "import re\n",
    "import sys\n",
    "import shutil\n",
    "import subprocess\n",
    "from pathlib import Path\n",
    "\n",
    "# Common to nbdev template\n",
    "# add into settings.ini, requirements, package name is python-dotenv, for conda build ensure `conda config --add channels conda-forge`\n",
    "import dotenv # for loading config from .env files, https://pypi.org/project/python-dotenv/\n",
    "import envyaml # Allows to loads env vars into a yaml file, https://github.com/thesimj/envyaml\n",
    "import fastcore # To add functionality related to nbdev development, https://github.com/fastai/fastcore/\n",
    "import fastcore.script\n",
    "from fastcore.script import call_parse\n",
    "\n",
    "# Project specific libraries\n",
    "from bps_fbi_sp_ecoli import core, helpers\n"
   ]
  },
  {
   "cell_type": "code",
   "execution_count": null,
   "metadata": {},
   "outputs": [],
   "source": [
    "#|hide\n",
    "print(core.__all__)\n",
    "print(helpers.__all__)"
   ]
  },
  {
   "cell_type": "code",
   "execution_count": null,
   "metadata": {},
   "outputs": [],
   "source": [
    "#|hide\n",
    "# This is the notebook config to use for developing purposes\n",
    "notebook_config = core.get_config(f\"{core.PROJECT_DIR}/config/config.default.env\")\n",
    "#core.show_project_env_vars(notebook_config)\n",
    "\n",
    "# Inputs\n",
    "INPUT_DIR = notebook_config['run_postecolityping']['input']['dir']\n",
    "SAMPLE_SHEET= notebook_config['run_ecolityping']['input']['sample_sheet']\n",
    "# Outputs\n",
    "OUTPUT_DIR = notebook_config['run_ecolityping']['output']['dir']\n",
    "COMMAND_FILE = notebook_config[\"run_postecolityping\"][\"output\"][\"command_file\"]\n",
    "# Other options\n",
    "STBIT = helpers.get_stbit('')"
   ]
  },
  {
   "cell_type": "code",
   "execution_count": null,
   "metadata": {},
   "outputs": [],
   "source": [
    "#|export\n",
    "def postecolityping(sampleid:str, output_dir:Path, stbit:str) -> str:\n",
    "    \"\"\"A function that generates a command for 1 sample.\n",
    "    \"\"\"\n",
    "    command = f\"\"\"\n",
    "    python3 {core.PACKAGE_DIR}/ecoli_fbi/postecolityping.py -i {sampleid} -d {output_dir} -stbit {stbit}\n",
    "    \"\"\".strip()\n",
    "    # This is where one would normally run it with subprocess or such but am utilizing linux commands in Notebooks as the alternative.\n",
    "    return command"
   ]
  },
  {
   "cell_type": "code",
   "execution_count": null,
   "metadata": {},
   "outputs": [],
   "source": [
    "#|export\n",
    "def generate_postecolityping_commands(sample_sheet:str, input_dir:Path, output_dir:Path, stbit:str):\n",
    "    \"\"\"A function that generates commands for many folders in a folder.\n",
    "    \"\"\"\n",
    "    commands = []\n",
    "    input_dir = os.path.abspath(input_dir)  # Get the full paths of relative paths\n",
    "    metadata = helpers.process_sample_sheet(input_dir, sample_sheet)\n",
    "    stbit = helpers.get_stbit('')\n",
    "    for sample_dict in metadata:\n",
    "        try:\n",
    "            sampleid = sample_dict['SampleID']\n",
    "            # Here is is the output_dir\n",
    "            commands.append(postecolityping(sampleid, output_dir, stbit))\n",
    "        except KeyError as err:\n",
    "            print(f\"Warning: SampleID {sampleid} is missing {err}.\")\n",
    "            pass\n",
    "    return commands"
   ]
  },
  {
   "cell_type": "code",
   "execution_count": null,
   "metadata": {},
   "outputs": [],
   "source": [
    "# #|export\n",
    "# commands = generate_postecolityping_commands(SAMPLE_SHEET, INPUT_DIR, OUTPUT_DIR, STBIT)\n",
    "# helpers.write_list_to_file(commands, COMMAND_FILE)\n",
    "# for command in commands:\n",
    "#     print(command)\n",
    "#     !{command}\n",
    "#     core.notification(NOTIFICATIONS)"
   ]
  },
  {
   "cell_type": "markdown",
   "metadata": {},
   "source": [
    "## Turn the ecoli_fbi into a commmand line tool"
   ]
  },
  {
   "cell_type": "code",
   "execution_count": null,
   "metadata": {},
   "outputs": [],
   "source": [
    "#|export\n",
    "# This are the command line options for FBI_run_postecolityping\n",
    "# Add 'FBI_run_bifrostpostkma' into settings.ini\n",
    "@call_parse\n",
    "def cli(\n",
    "    input:Path = None, # Path to input folder that contains the results of kma matching against the ecoligenes db (the folder)\n",
    "    sample_sheet:str = None, # Name of the sample_sheet file\n",
    "    output:Path = None, # Path to the output directory\n",
    "    command_file:str = None, # Path to file to write commands to\n",
    "    execute:bool = True, # Run commands in command file\n",
    "    to_stdout:bool = False, # If true, will write to stdout instead of file, mutually exclusive with output_file\n",
    "    overwrite:bool = False, # If true, will overwrite output_file if it exists\n",
    "    config_file:str = None # Config file to overwrite default settings, arg parse values will override config file values,\n",
    "    ) -> None:\n",
    "    \"\"\"\n",
    "    This program takes as input a folder containing .tsv files \n",
    "    and allows you to run postecolityping.py on all Ecoli samples.\"\"\"\n",
    "    config = core.get_config(config_file) # Set env vars and get config variables\n",
    "\n",
    "    if input is not None:\n",
    "        config[\"run_postecolityping\"][\"input\"][\"dir\"] = input\n",
    "    if sample_sheet is not None:\n",
    "        config['run_postecolityping']['input']['sample_sheet'] = sample_sheet\n",
    "    if output is not None:\n",
    "        config['run_postecolityping']['output']['dir'] = output\n",
    "    if command_file is not None:\n",
    "        config['run_postecolityping']['output']['command_file'] = command_file\n",
    "    if to_stdout is True:\n",
    "        config['run_postecolityping']['output']['to_stdout'] = True\n",
    "    if overwrite is True:\n",
    "        config['run_postecolityping']['output']['overwrite'] = True\n",
    "\n",
    "    # generate_postecolityping_commands(sample_sheet: str, input_dir: Path, output_dir: Path, stbit: str)\n",
    "    # generate_postecolityping_commands(SAMPLE_SHEET, INPUT_DIR, OUTPUT_DIR, STBIT)\n",
    "    commands = generate_postecolityping_commands(\n",
    "        config[\"run_postecolityping\"][\"input\"][\"sample_sheet\"],\n",
    "        config[\"run_postecolityping\"][\"input\"][\"dir\"],\n",
    "        config[\"run_postecolityping\"][\"output\"][\"dir\"],\n",
    "        stbit = helpers.get_stbit('')\n",
    "    )\n",
    "    helpers.write_list_to_file(\n",
    "        commands,\n",
    "        config[\"run_postecolityping\"][\"output\"][\"command_file\"],\n",
    "        overwrite=config[\"run_postecolityping\"][\"output\"][\"overwrite\"],\n",
    "        to_stdout=config[\"run_postecolityping\"][\"output\"][\"to_stdout\"]\n",
    "    )\n",
    "\n",
    "    # For running make sure command is present\n",
    "    if execute:\n",
    "        helpers.execute_commands_from_file(config[\"run_postecolityping\"][\"output\"][\"command_file\"])\n",
    "        #core.notification(config[\"demultiplex_runs\"][\"notification\"] )"
   ]
  },
  {
   "cell_type": "code",
   "execution_count": null,
   "metadata": {},
   "outputs": [],
   "source": [
    "#| hide\n",
    "#cli(config_file=f\"{core.PROJECT_DIR}/config/config.default.env\", execute=False)"
   ]
  },
  {
   "cell_type": "code",
   "execution_count": null,
   "metadata": {},
   "outputs": [],
   "source": [
    "#| hide\n",
    "# This is included at the end to ensure when you run through your notebook the code is also transferred to the associated python package\n",
    "nbdev.nbdev_export()"
   ]
  }
 ],
 "metadata": {
  "kernelspec": {
   "display_name": "python3",
   "language": "python",
   "name": "python3"
  }
 },
 "nbformat": 4,
 "nbformat_minor": 2
}
