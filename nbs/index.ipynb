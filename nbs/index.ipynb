{
 "cells": [
  {
   "cell_type": "code",
   "execution_count": null,
   "metadata": {},
   "outputs": [],
   "source": [
    "#| hide\n",
    "from bps_fbi_sp_ecoli import *"
   ]
  },
  {
   "attachments": {},
   "cell_type": "markdown",
   "metadata": {},
   "source": [
    "# bps_fbi_sp_ecoli\n",
    "Species specific scripts for ecoli"
   ]
  },
  {
   "attachments": {},
   "cell_type": "markdown",
   "metadata": {},
   "source": [
    "## Install"
   ]
  },
  {
   "attachments": {},
   "cell_type": "markdown",
   "metadata": {},
   "source": [
    "```sh\n",
    "pip install bps_fbi_sp_ecoli\n",
    "```"
   ]
  },
  {
   "attachments": {},
   "cell_type": "markdown",
   "metadata": {},
   "source": [
    "## How to use"
   ]
  },
  {
   "cell_type": "markdown",
   "metadata": {},
   "source": [
    "Determines the serotype and virulence in ecoli through kmer alignment"
   ]
  },
  {
   "cell_type": "code",
   "execution_count": null,
   "metadata": {},
   "outputs": [],
   "source": [
    "! FBI_run_bifrostecolipostkma -h"
   ]
  },
  {
   "cell_type": "code",
   "execution_count": null,
   "metadata": {},
   "outputs": [],
   "source": [
    "#! FBI_run_bifrostecolipostkma --input input/231116_CUSTOM_SSIFBI_ECOLI --sample_sheet sample_sheet.xlsx --output output/231116_CUSTOM_SSIFBI_ECOLI --command_file output/231116_CUSTOM_SSIFBI_ECOLI/run_bifrostecolipostkma.tsv --execute"
   ]
  },
  {
   "cell_type": "code",
   "execution_count": null,
   "metadata": {},
   "outputs": [],
   "source": [
    "! FBI_run_qcecolisummary -h"
   ]
  },
  {
   "cell_type": "code",
   "execution_count": null,
   "metadata": {},
   "outputs": [],
   "source": [
    "#! FBI_run_bifrostecolipostkma --input input/231116_CUSTOM_SSIFBI_ECOLI --sample_sheet sample_sheet.xlsx --output output/231116_CUSTOM_SSIFBI_ECOLI --command_file output/231116_CUSTOM_SSIFBI_ECOLI/run_bifrostecolipostkma.tsv --execute"
   ]
  },
  {
   "cell_type": "code",
   "execution_count": null,
   "metadata": {},
   "outputs": [],
   "source": []
  }
 ],
 "metadata": {
  "kernelspec": {
   "display_name": "python3",
   "language": "python",
   "name": "python3"
  }
 },
 "nbformat": 4,
 "nbformat_minor": 4
}
