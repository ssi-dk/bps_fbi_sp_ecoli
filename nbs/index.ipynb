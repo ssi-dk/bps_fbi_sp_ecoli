{
 "cells": [
  {
   "cell_type": "code",
   "execution_count": null,
   "metadata": {},
   "outputs": [],
   "source": [
    "#| hide\n",
    "from bps_fbi_sp_ecoli import *"
   ]
  },
  {
   "cell_type": "markdown",
   "metadata": {},
   "source": [
    "[![PyPI version](https://badge.fury.io/py/bps-fbi-sp-ecoli.svg)](https://badge.fury.io/py/bps-fbi-sp-ecoli)\n",
    "[![License: MIT](https://img.shields.io/badge/License-MIT-yellow.svg)](https://opensource.org/licenses/MIT)\n",
    "[![Anaconda-Server Badge](https://anaconda.org/kalilamali/bps_fbi_sp_ecoli/badges/version.svg)](https://anaconda.org/kalilamali/bps_fbi_sp_ecoli)"
   ]
  },
  {
   "attachments": {},
   "cell_type": "markdown",
   "metadata": {},
   "source": [
    "# bps_fbi_sp_ecoli\n",
    "Species specific scripts for ecoli"
   ]
  },
  {
   "cell_type": "markdown",
   "metadata": {},
   "source": [
    "## Quick start"
   ]
  },
  {
   "cell_type": "markdown",
   "metadata": {},
   "source": [
    "```bash\n",
    "# Type\n",
    "fbi_run_ecolityping -h\n",
    "# Process\n",
    "fbi_run_postecolityping -h\n",
    "# Summarize\n",
    "! fbi_run_qcecolisummary -h\n",
    "```"
   ]
  },
  {
   "attachments": {},
   "cell_type": "markdown",
   "metadata": {},
   "source": [
    "## Installation"
   ]
  },
  {
   "cell_type": "markdown",
   "metadata": {},
   "source": [
    "### Pip"
   ]
  },
  {
   "cell_type": "markdown",
   "metadata": {},
   "source": [
    "Note that this program requires KMA, which is not available on pip. you would need to install it via [conda](https://anaconda.org/bioconda/kma) or [github](https://bitbucket.org/genomicepidemiology/kma/src/master/)."
   ]
  },
  {
   "attachments": {},
   "cell_type": "markdown",
   "metadata": {},
   "source": [
    "```bash\n",
    "conda create /.venv python=3.11\n",
    "pip install bps_fbi_sp_ecoli\n",
    "conda install bioconda::kma\n",
    "```"
   ]
  },
  {
   "cell_type": "markdown",
   "metadata": {},
   "source": [
    "### Conda"
   ]
  },
  {
   "cell_type": "markdown",
   "metadata": {},
   "source": [
    "```bash\n",
    "conda create /.venv python=3.11\n",
    "conda install kalilamali::bps_fbi_sp_ecoli\n",
    "pip install openpyxl pandas envyaml pandas requests python-dotenv\n",
    "```"
   ]
  },
  {
   "cell_type": "markdown",
   "metadata": {},
   "source": [
    "## Source"
   ]
  },
  {
   "cell_type": "markdown",
   "metadata": {},
   "source": [
    "```bash\n",
    "# Clone this repo\n",
    "git clone https://github.com/ssi-dk/https://github.com/ssi-dk/bps_fbi_sp_ecoli.git\n",
    "# Create an environment with the required tools with conda\n",
    "conda create --name ecoli_pipeline kma python=3.11\n",
    "# Activate the environment\n",
    "conda activate ecoli pipeline\n",
    "# Install pip requirements\n",
    "pip install -r requirements.tx\n",
    "```"
   ]
  },
  {
   "attachments": {},
   "cell_type": "markdown",
   "metadata": {},
   "source": [
    "## How to use"
   ]
  },
  {
   "cell_type": "markdown",
   "metadata": {},
   "source": [
    "Determines the serotype and virulence in ecoli through kmer alignment"
   ]
  },
  {
   "cell_type": "code",
   "execution_count": null,
   "metadata": {},
   "outputs": [
    {
     "name": "stdout",
     "output_type": "stream",
     "text": [
      "usage: fbi_run_ecolityping [-h] [--input INPUT] [--sample_sheet SAMPLE_SHEET]\n",
      "                           [--output OUTPUT] [--db_path DB_PATH] [--db_update]\n",
      "                           [--kma_path KMA_PATH] [--command_file COMMAND_FILE]\n",
      "                           [--execute] [--to_stdout] [--overwrite]\n",
      "                           [--config_file CONFIG_FILE]\n",
      "\n",
      "This program takes as input a folder containing fastq.gz files and a\n",
      "sample_sheet containing SampleID Organism SupplyingLab ecoli1 Ecoli FBI and\n",
      "allows you to run ecolityping.py on all Ecoli samples.\n",
      "\n",
      "options:\n",
      "  -h, --help                   show this help message and exit\n",
      "  --input INPUT                Path to input folder that contains the .fastq.gz\n",
      "                               files\n",
      "  --sample_sheet SAMPLE_SHEET  Name of the sample_sheet file\n",
      "  --output OUTPUT              Path to the output directory\n",
      "  --db_path DB_PATH            Path to db folder that contains the indexed\n",
      "                               database files e.g., file.comp.b, file.fsa,\n",
      "                               file.index.db, file.lenght.b, file.name,\n",
      "                               file.seq.b\n",
      "  --db_update                  Option to build/update the database (default:\n",
      "                               False)\n",
      "  --kma_path KMA_PATH          Path to kma program\n",
      "  --command_file COMMAND_FILE  Path to file to write commands to\n",
      "  --execute                    Run commands in command file (default: False)\n",
      "  --to_stdout                  If true, will write to stdout instead of file,\n",
      "                               mutually exclusive with output_file (default:\n",
      "                               False)\n",
      "  --overwrite                  If true, will overwrite output_file if it exists\n",
      "                               (default: False)\n",
      "  --config_file CONFIG_FILE    Config file to overwrite default settings, arg\n",
      "                               parse values will override config file values,\n"
     ]
    }
   ],
   "source": [
    "! fbi_run_ecolityping -h"
   ]
  },
  {
   "cell_type": "code",
   "execution_count": null,
   "metadata": {},
   "outputs": [
    {
     "name": "stdout",
     "output_type": "stream",
     "text": [
      "usage: fbi_run_postecolityping [-h] [--input INPUT]\n",
      "                               [--sample_sheet SAMPLE_SHEET] [--output OUTPUT]\n",
      "                               [--command_file COMMAND_FILE] [--execute]\n",
      "                               [--to_stdout] [--overwrite]\n",
      "                               [--config_file CONFIG_FILE]\n",
      "\n",
      "This program takes as input a folder containing .tsv files and allows you to run\n",
      "postecolityping.py on all Ecoli samples.\n",
      "\n",
      "options:\n",
      "  -h, --help                   show this help message and exit\n",
      "  --input INPUT                Path to input folder that contains the results of\n",
      "                               kma matching against the ecoligenes db (the\n",
      "                               folder)\n",
      "  --sample_sheet SAMPLE_SHEET  Name of the sample_sheet file\n",
      "  --output OUTPUT              Path to the output directory\n",
      "  --command_file COMMAND_FILE  Path to file to write commands to\n",
      "  --execute                    Run commands in command file (default: False)\n",
      "  --to_stdout                  If true, will write to stdout instead of file,\n",
      "                               mutually exclusive with output_file (default:\n",
      "                               False)\n",
      "  --overwrite                  If true, will overwrite output_file if it exists\n",
      "                               (default: False)\n",
      "  --config_file CONFIG_FILE    Config file to overwrite default settings, arg\n",
      "                               parse values will override config file values,\n"
     ]
    }
   ],
   "source": [
    "! fbi_run_postecolityping -h"
   ]
  },
  {
   "cell_type": "code",
   "execution_count": null,
   "metadata": {},
   "outputs": [
    {
     "name": "stdout",
     "output_type": "stream",
     "text": [
      "usage: fbi_run_qcecolisummary [-h] [--input INPUT] [--output OUTPUT]\n",
      "                              [--command_file COMMAND_FILE] [--execute]\n",
      "                              [--to_stdout] [--overwrite]\n",
      "                              [--config_file CONFIG_FILE]\n",
      "\n",
      "This program takes as input a folder containing .tsv files and allows you to run\n",
      "qcecolisummary.py on all Ecoli samples.\n",
      "\n",
      "options:\n",
      "  -h, --help                   show this help message and exit\n",
      "  --input INPUT                Path to input folder that contains the results of\n",
      "                               kma matching against the ecoligenes db (the\n",
      "                               folder)\n",
      "  --output OUTPUT              Path to the output directory\n",
      "  --command_file COMMAND_FILE  Path to file to write commands to\n",
      "  --execute                    Run commands in command file (default: False)\n",
      "  --to_stdout                  If true, will write to stdout instead of file,\n",
      "                               mutually exclusive with output_file (default:\n",
      "                               False)\n",
      "  --overwrite                  If true, will overwrite output_file if it exists\n",
      "                               (default: False)\n",
      "  --config_file CONFIG_FILE    Config file to overwrite default settings, arg\n",
      "                               parse values will override config file values,\n"
     ]
    }
   ],
   "source": [
    "! fbi_run_qcecolisummary -h"
   ]
  }
 ],
 "metadata": {
  "kernelspec": {
   "display_name": "python3",
   "language": "python",
   "name": "python3"
  }
 },
 "nbformat": 4,
 "nbformat_minor": 4
}
