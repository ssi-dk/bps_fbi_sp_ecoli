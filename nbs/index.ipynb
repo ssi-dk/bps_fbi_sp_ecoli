{
 "cells": [
  {
   "cell_type": "code",
   "execution_count": null,
   "metadata": {},
   "outputs": [],
   "source": [
    "#| hide\n",
    "from bps_fbi_sp_ecoli import *"
   ]
  },
  {
   "cell_type": "markdown",
   "metadata": {},
   "source": [
    "[![PyPI version](https://badge.fury.io/py/bps-fbi-sp-ecoli.svg)](https://badge.fury.io/py/bps-fbi-sp-ecoli)\n",
    "[![License: MIT](https://img.shields.io/badge/License-MIT-yellow.svg)](https://opensource.org/licenses/MIT)\n",
    "[![Anaconda-Server Badge](https://anaconda.org/kalilamali/bps_fbi_sp_ecoli/badges/version.svg)](https://anaconda.org/kalilamali/bps_fbi_sp_ecoli)"
   ]
  },
  {
   "attachments": {},
   "cell_type": "markdown",
   "metadata": {},
   "source": [
    "# bps_fbi_sp_ecoli\n",
    "Species specific scripts for ecoli"
   ]
  },
  {
   "attachments": {},
   "cell_type": "markdown",
   "metadata": {},
   "source": [
    "## Installation"
   ]
  },
  {
   "cell_type": "markdown",
   "metadata": {},
   "source": [
    "Note that this program requires KMA, which is not available on pip. you would need to install it via [conda](https://anaconda.org/bioconda/kma) or [github](https://bitbucket.org/genomicepidemiology/kma/src/master/)."
   ]
  },
  {
   "cell_type": "markdown",
   "metadata": {},
   "source": [
    "### Installation with pip"
   ]
  },
  {
   "attachments": {},
   "cell_type": "markdown",
   "metadata": {},
   "source": [
    "```sh\n",
    "conda create /.venv python=3.11\n",
    "pip install bps_fbi_sp_ecoli\n",
    "conda install bioconda::kma\n",
    "```"
   ]
  },
  {
   "cell_type": "markdown",
   "metadata": {},
   "source": [
    "### Installation with conda"
   ]
  },
  {
   "cell_type": "markdown",
   "metadata": {},
   "source": [
    "```sh\n",
    "conda create /.venv python=3.11\n",
    "conda install kalilamali::bps_fbi_sp_ecoli\n",
    "pip install requirements.txt\n",
    "```"
   ]
  },
  {
   "attachments": {},
   "cell_type": "markdown",
   "metadata": {},
   "source": [
    "## How to use"
   ]
  },
  {
   "cell_type": "markdown",
   "metadata": {},
   "source": [
    "Determines the serotype and virulence in ecoli through kmer alignment"
   ]
  },
  {
   "cell_type": "code",
   "execution_count": null,
   "metadata": {},
   "outputs": [],
   "source": [
    "! FBI_run_bifrostecolipostkma -h"
   ]
  },
  {
   "cell_type": "code",
   "execution_count": null,
   "metadata": {},
   "outputs": [],
   "source": [
    "#! FBI_run_bifrostecolipostkma --input input/231116_CUSTOM_SSIFBI_ECOLI --sample_sheet sample_sheet.xlsx --output output --db_path input/db/ecoligenes --execute"
   ]
  },
  {
   "cell_type": "code",
   "execution_count": null,
   "metadata": {},
   "outputs": [],
   "source": [
    "! FBI_run_qcecolisummary -h"
   ]
  },
  {
   "cell_type": "code",
   "execution_count": null,
   "metadata": {},
   "outputs": [],
   "source": [
    "#! FBI_run_qcecolisummary --input output/231116_CUSTOM_SSIFBI_ECOLI --output output --execute"
   ]
  }
 ],
 "metadata": {
  "kernelspec": {
   "display_name": "python3",
   "language": "python",
   "name": "python3"
  }
 },
 "nbformat": 4,
 "nbformat_minor": 4
}
