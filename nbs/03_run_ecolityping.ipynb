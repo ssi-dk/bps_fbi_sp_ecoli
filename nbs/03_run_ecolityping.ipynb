{
 "cells": [
  {
   "cell_type": "markdown",
   "metadata": {},
   "source": [
    "## Run ecolityping\n",
    "Functions that allow the user to run ecolityping.py"
   ]
  },
  {
   "cell_type": "code",
   "execution_count": null,
   "metadata": {},
   "outputs": [],
   "source": [
    "#|default_exp run_ecolityping\n",
    "# This will create a package named bps_fbi_sp_ecoli/run_ecolityping.py"
   ]
  },
  {
   "cell_type": "code",
   "execution_count": null,
   "metadata": {},
   "outputs": [],
   "source": [
    "#|hide\n",
    "# Nbdev requires this imports\n",
    "import nbdev\n",
    "from nbdev.showdoc import *"
   ]
  },
  {
   "cell_type": "code",
   "execution_count": null,
   "metadata": {},
   "outputs": [],
   "source": [
    "#|export\n",
    "# Standard libs to be used in the notebook\n",
    "import os\n",
    "import re\n",
    "import sys\n",
    "import shutil\n",
    "import subprocess\n",
    "from pathlib import Path\n",
    "\n",
    "# Common to nbdev template\n",
    "# add into settings.ini, requirements, package name is python-dotenv, for conda build ensure `conda config --add channels conda-forge`\n",
    "import dotenv # for loading config from .env files, https://pypi.org/project/python-dotenv/\n",
    "import envyaml # Allows to loads env vars into a yaml file, https://github.com/thesimj/envyaml\n",
    "import fastcore # To add functionality related to nbdev development, https://github.com/fastai/fastcore/\n",
    "import fastcore.script\n",
    "from fastcore.script import call_parse\n",
    "\n",
    "\n",
    "# Project specific libraries\n",
    "from bps_fbi_sp_ecoli import core, helpers"
   ]
  },
  {
   "cell_type": "code",
   "execution_count": null,
   "metadata": {},
   "outputs": [],
   "source": [
    "#|hide\n",
    "print(core.__all__)\n",
    "print(helpers.__all__)"
   ]
  },
  {
   "cell_type": "code",
   "execution_count": null,
   "metadata": {},
   "outputs": [],
   "source": [
    "#|export\n",
    "# Get and check requirements\n",
    "tools = ['kma']\n",
    "helpers.tools_are_present(tools)"
   ]
  },
  {
   "cell_type": "code",
   "execution_count": null,
   "metadata": {},
   "outputs": [],
   "source": [
    "#|hide\n",
    "# This is the notebook config to use for developing purposes\n",
    "notebook_config = core.get_config(f\"{core.PROJECT_DIR}/config/config.default.env\")\n",
    "#core.show_project_env_vars(notebook_config)\n",
    "\n",
    "# Programs\n",
    "KMA_PATH =  notebook_config['run_ecolityping']['kma_path']\n",
    "# Inputs\n",
    "DB_PATH = notebook_config['run_ecolityping']['db_path']\n",
    "DB_UPDATE = notebook_config['run_ecolityping']['db_update']\n",
    "INPUT_DIR = notebook_config['run_ecolityping']['input']['dir']\n",
    "SAMPLE_SHEET= notebook_config['run_ecolityping']['input']['sample_sheet']\n",
    "# Outputs\n",
    "OUTPUT_DIR = notebook_config['run_ecolityping']['output']['dir']\n",
    "COMMAND_FILE = notebook_config[\"run_ecolityping\"][\"output\"][\"command_file\"]"
   ]
  },
  {
   "cell_type": "code",
   "execution_count": null,
   "metadata": {},
   "outputs": [],
   "source": [
    "#|export\n",
    "def ecolityping(sampleid: str, read1: Path, read2: Path, database_path: Path, kma_path: Path, output_dir:Path, update:bool) -> str:\n",
    "    \"\"\"A function that generates a command for 1 sample.\n",
    "    \"\"\"\n",
    "    # Get the full paths of relative paths\n",
    "    read1 = os.path.abspath(read1)\n",
    "    read2 = os.path.abspath(read2)\n",
    "    database_path = os.path.abspath(database_path)\n",
    "    helpers.check_db(database_path)\n",
    "    kma_path = os.path.abspath(kma_path)\n",
    "    output_dir = os.path.abspath(output_dir)\n",
    "\n",
    "    # Note the ecolityping command will create output folders if they don't exist. This includes parent directories.\n",
    "    command = f\"\"\"\n",
    "    python3 {core.PACKAGE_DIR}/ecoli_fbi/ecolityping.py -i {sampleid} -R1 {read1} -R2 {read2} -db {database_path} -k {kma_path} -o {output_dir} --update {update}\n",
    "    \"\"\".strip()\n",
    "    # This is where one would normally run it with subprocess or such but am utilizing linux commands in Notebooks as the alternative.\n",
    "    return command"
   ]
  },
  {
   "cell_type": "code",
   "execution_count": null,
   "metadata": {},
   "outputs": [],
   "source": [
    "#|export\n",
    "def generate_ecolityping_commands(input_dir: Path, sample_sheet: str, output_dir:Path, database_path:Path, kma_path: Path, update:bool):\n",
    "    \"\"\"A function that generates commands for many samples in a folder.\"\"\"\n",
    "    commands = []\n",
    "    # with open(fastqs_to_ecolityping_file_path, 'r') as f:\n",
    "    #     fastqs = [line.strip() for line in f if not line.startswith(\"#\")]\n",
    "    metadata = helpers.process_sample_sheet(input_dir, sample_sheet)\n",
    "    fastqs = helpers.find_fastqs(input_dir)\n",
    "    metadata = helpers.add_fastqs_to_metadata(metadata, fastqs)\n",
    "    for sample_dict in metadata:\n",
    "        try:\n",
    "            sampleid = sample_dict['SampleID']\n",
    "            read1 = sample_dict['R1']\n",
    "            read2 = sample_dict['R2']\n",
    "            organism = sample_dict['Organism']\n",
    "            if (organism == 'Ecoli') or (organism == 'E. coli'):\n",
    "                commands.append(ecolityping(sampleid, read1, read2, database_path, kma_path, output_dir, update))\n",
    "        except KeyError as err:\n",
    "            #print(f\"Warning: SampleID {sampleid} is missing {err}.\")\n",
    "            pass\n",
    "    return commands"
   ]
  },
  {
   "cell_type": "code",
   "execution_count": null,
   "metadata": {},
   "outputs": [],
   "source": [
    "# #|export\n",
    "# commands = generate_ecolityping_commands(INPUT_DIR, SAMPLE_SHEET, OUTPUT_DIR, DB_PATH, KMA_PATH, DB_UPDATE)\n",
    "# helpers.write_list_to_file(commands, COMMAND_FILE)\n",
    "# for command in commands:\n",
    "#     print(command)\n",
    "#     !{command}\n",
    "# #     helpers.notification(NOTIFICATIONS)"
   ]
  },
  {
   "cell_type": "markdown",
   "metadata": {},
   "source": [
    "## Turn the ecoli_fbi into a commmand line tool"
   ]
  },
  {
   "cell_type": "code",
   "execution_count": null,
   "metadata": {},
   "outputs": [],
   "source": [
    "#|export\n",
    "# This are the command line options for FBI_run_ecolityping\n",
    "# Add 'FBI_run_bifrostpostkma' into settings.ini\n",
    "@call_parse\n",
    "def cli(\n",
    "    input:Path = None, # Path to input folder that contains the .fastq.gz files\n",
    "    sample_sheet:str = None, # Name of the sample_sheet file\n",
    "    output:Path = None, # Path to the output directory\n",
    "    db_path:Path = None, # Path to db folder that contains the indexed database files e.g., file.comp.b, file.fsa, file.index.db, file.lenght.b, file.name, file.seq.b \n",
    "    db_update:bool = False, # Option to build/update the database\n",
    "    kma_path:Path = None, # Path to kma program\n",
    "    command_file:str = None, # Path to file to write commands to\n",
    "    execute:bool = True, # Run commands in command file\n",
    "    to_stdout:bool = False, # If true, will write to stdout instead of file, mutually exclusive with output_file\n",
    "    overwrite:bool = False, # If true, will overwrite output_file if it exists\n",
    "    config_file:str = None # Config file to overwrite default settings, arg parse values will override config file values,\n",
    "    ) -> None:\n",
    "    \"\"\"This program takes as input a folder containing fastq.gz files and a sample_sheet containing \n",
    "    \\nSampleID\tOrganism\tSupplyingLab\n",
    "    \\necoli1  Ecoli FBI\n",
    "    \\nand allows you to run ecolityping.py on all Ecoli samples.\n",
    "    \"\"\"\n",
    "    config = core.get_config(config_file) # Set env vars and get config variables\n",
    "\n",
    "    if input is not None:\n",
    "        config[\"run_ecolityping\"][\"input\"][\"dir\"] = input\n",
    "    if sample_sheet is not None:\n",
    "        config['run_ecolityping']['input']['sample_sheet'] = sample_sheet\n",
    "    if output is not None:\n",
    "        config['run_ecolityping']['output']['dir'] = output\n",
    "    if db_path is not None:\n",
    "        config['run_ecolityping']['db_path'] = db_path\n",
    "    if kma_path is not None:\n",
    "        config['run_ecolityping']['kma_path'] = kma_path\n",
    "    if command_file is not None:\n",
    "        config['run_ecolityping']['output']['command_file'] = command_file\n",
    "    if db_update is True:\n",
    "        config['run_ecolityping']['db_update'] = True\n",
    "    if to_stdout is True:\n",
    "        config['run_ecolityping']['output']['to_stdout'] = True\n",
    "    if overwrite is True:\n",
    "        config['run_ecolityping']['output']['overwrite'] = True\n",
    "\n",
    "    # Rember the order of the arguments here is dependent on the function:\n",
    "    # generate_ecolityping_commands(input_dir: Path, sample_sheet: str, output_dir:Path, database_path:Path, kma_path: Path, update:bool):\n",
    "    commands = generate_ecolityping_commands(\n",
    "        config[\"run_ecolityping\"][\"input\"][\"dir\"],\n",
    "        config[\"run_ecolityping\"][\"input\"][\"sample_sheet\"],\n",
    "        config[\"run_ecolityping\"][\"output\"][\"dir\"],\n",
    "        config['run_ecolityping']['db_path'],\n",
    "        config['run_ecolityping']['kma_path'],\n",
    "        config['run_ecolityping']['db_update'],\n",
    "\n",
    "    )\n",
    "    helpers.write_list_to_file(\n",
    "        commands,\n",
    "        config[\"run_ecolityping\"][\"output\"][\"command_file\"],\n",
    "        overwrite=config[\"run_ecolityping\"][\"output\"][\"overwrite\"],\n",
    "        to_stdout=config[\"run_ecolityping\"][\"output\"][\"to_stdout\"]\n",
    "    )\n",
    "\n",
    "    # For running make sure command is present\n",
    "    if execute and helpers.tools_are_present([\"kma\"]):\n",
    "        helpers.execute_commands_from_file(config[\"run_ecolityping\"][\"output\"][\"command_file\"])\n",
    "        #core.notification(config[\"demultiplex_runs\"][\"notification\"] )\n"
   ]
  },
  {
   "cell_type": "code",
   "execution_count": null,
   "metadata": {},
   "outputs": [],
   "source": [
    "#|hide\n",
    "#cli(config_file=f\"{core.PROJECT_DIR}/config/config.default.env\", execute=False)"
   ]
  },
  {
   "cell_type": "code",
   "execution_count": null,
   "metadata": {},
   "outputs": [],
   "source": [
    "#| hide\n",
    "# This is included at the end to ensure when you run through your notebook the code is also transferred to the associated python package\n",
    "nbdev.nbdev_export()"
   ]
  }
 ],
 "metadata": {
  "kernelspec": {
   "display_name": "python3",
   "language": "python",
   "name": "python3"
  }
 },
 "nbformat": 4,
 "nbformat_minor": 2
}
